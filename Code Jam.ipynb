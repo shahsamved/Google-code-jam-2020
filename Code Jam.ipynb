{
 "cells": [
  {
   "cell_type": "code",
   "execution_count": 14,
   "metadata": {},
   "outputs": [
    {
     "name": "stdout",
     "output_type": "stream",
     "text": [
      "2\n",
      "101\n",
      "Case #1: (1)0(1)\n",
      "321012\n",
      "Case #2: (((3)2)1)0(1(2))\n"
     ]
    }
   ],
   "source": [
    "#Problem 2\n",
    "\n",
    "t=int(input())\n",
    "for j in range(1,t+1):\n",
    "    l=list()\n",
    "    s=input()\n",
    "    c=0\n",
    "    c1=0\n",
    "    c2=0\n",
    "    for i in range(len(s)):\n",
    "        temp=int(s[i])\n",
    "        x=temp-c\n",
    "        c=temp\n",
    "        if x>0:\n",
    "            for i in range(x):\n",
    "                l.append(\"(\")\n",
    "            l.append(temp)\n",
    "        elif x==0:\n",
    "            l.append(temp)\n",
    "        elif x<0:\n",
    "            x=abs(x)\n",
    "            for i in range(x):\n",
    "                l.append(\")\")\n",
    "            l.append(temp)\n",
    "    for i in l:\n",
    "        if i ==\"(\":\n",
    "            c1+=1\n",
    "        elif i==\")\":\n",
    "            c2+=1\n",
    "    r=c1-c2\n",
    "    for i in range(r):\n",
    "        l.append(\")\")  \n",
    "                    \n",
    "    s=\"\"\n",
    "    for i in l:\n",
    "        s+=str(i)\n",
    "                   \n",
    "    print(\"Case #{}: {}\".format(j,s))\n",
    "                \n"
   ]
  },
  {
   "cell_type": "code",
   "execution_count": 6,
   "metadata": {},
   "outputs": [
    {
     "name": "stdout",
     "output_type": "stream",
     "text": [
      "1\n",
      "4\n",
      "1 10\n",
      "[1]\n",
      "[10]\n",
      "7 15\n",
      "[1, 7]\n",
      "[10, 15]\n",
      "4 6\n",
      "[1, 4, 7]\n",
      "[10, 15, 6]\n",
      "2 10\n",
      "[1, 2, 4, 7]\n",
      "[10, 15, 6, 10]\n",
      "Case #1: IMPOSSIBLE\n"
     ]
    }
   ],
   "source": [
    "#Problem 3\n",
    "\n",
    "t = int(input())\n",
    "\n",
    "for i in range(1,t+1):\n",
    "    n = int(input())\n",
    "    start = list()\n",
    "    end = list()\n",
    "    begin = list()\n",
    "    J = 0\n",
    "    C = 0\n",
    "    s_1 = list()\n",
    "    s_2 = list()\n",
    "    imp = 0\n",
    "    s=\"\"\n",
    "    for j in range(n):\n",
    "        x = input()\n",
    "        a = x.split(\" \")\n",
    "        begin.append(int(a[0]))\n",
    "        if(j == 0):\n",
    "            start.append(int(a[0]))\n",
    "            end.append(int(a[1]))\n",
    "        else:\n",
    "            start.append(int(a[0]))\n",
    "            end.append(int(a[1]))\n",
    "        start.sort()\n",
    "        #print(start)\n",
    "        #print(end)\n",
    "    for k in range(len(start)):\n",
    "        if(k==0):\n",
    "            J=k\n",
    "            s_1.append(begin.index(start[k]))\n",
    "        else:\n",
    "            if(start[k]<end[J]):\n",
    "                if(start[k]>=end[C] or C==0):\n",
    "                    C=k\n",
    "                    s_2.append(begin.index(start[k]))\n",
    "                else:\n",
    "                    imp = 1\n",
    "                    break\n",
    "            elif(start[k]>=end[J]):\n",
    "                J=k\n",
    "                s_1.append(begin.index(start[k]))\n",
    "\n",
    "    if(imp == 1):\n",
    "        print(\"Case #{}: IMPOSSIBLE\".format(i))\n",
    "    else:\n",
    "        for j in range(0,n):\n",
    "            if(j in s_1):\n",
    "                s += \"J\"\n",
    "            else:\n",
    "                s += \"C\"\n",
    "        print(\"Case #{}: {}\".format(i,s))"
   ]
  },
  {
   "cell_type": "code",
   "execution_count": null,
   "metadata": {},
   "outputs": [],
   "source": []
  }
 ],
 "metadata": {
  "kernelspec": {
   "display_name": "Python 3",
   "language": "python",
   "name": "python3"
  },
  "language_info": {
   "codemirror_mode": {
    "name": "ipython",
    "version": 3
   },
   "file_extension": ".py",
   "mimetype": "text/x-python",
   "name": "python",
   "nbconvert_exporter": "python",
   "pygments_lexer": "ipython3",
   "version": "3.7.4"
  }
 },
 "nbformat": 4,
 "nbformat_minor": 2
}
